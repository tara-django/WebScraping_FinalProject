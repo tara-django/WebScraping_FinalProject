{
 "cells": [
  {
   "cell_type": "code",
   "execution_count": 2,
   "metadata": {},
   "outputs": [
    {
     "name": "stdout",
     "output_type": "stream",
     "text": [
      "Writing complete\n"
     ]
    }
   ],
   "source": [
    "import requests\n",
    "from bs4 import BeautifulSoup\n",
    "import csv\n",
    "base_url = \"https://www.websiteoutlook.com/\"\n",
    "response = requests.get(base_url)\n",
    "html_soup = BeautifulSoup(response.content, 'lxml')\n",
    "html_soup.title\n",
    "html_soup.title.text\n",
    "tables = html_soup.find_all(\"table\")\n",
    "table = tables[0]\n",
    "raw_trs = table.find_all(\"tr\")\n",
    "len(raw_trs)\n",
    "clean_trs = raw_trs[0:22]\n",
    "raw_columns, raw_rows = clean_trs[0], clean_trs[0:]\n",
    "columns = [td.text for td in raw_columns.find_all(\"td\")]    \n",
    "rows = [[td.text for td in row.find_all(\"td\")] for row in raw_rows]\n",
    "rows\n",
    "myFile = open('Website_Outlook.csv', 'w')\n",
    "with myFile:\n",
    "    writer = csv.writer(myFile)\n",
    "    writer.writerow(['Website','Alexa Rank','Backlinks','Domain Authority'])\n",
    "    writer.writerows(rows)\n",
    "print(\"Writing complete\")\n",
    "\n",
    "\n",
    "\n"
   ]
  },
  {
   "cell_type": "code",
   "execution_count": 26,
   "metadata": {},
   "outputs": [],
   "source": []
  },
  {
   "cell_type": "code",
   "execution_count": null,
   "metadata": {},
   "outputs": [],
   "source": []
  },
  {
   "cell_type": "code",
   "execution_count": null,
   "metadata": {},
   "outputs": [],
   "source": []
  },
  {
   "cell_type": "code",
   "execution_count": null,
   "metadata": {},
   "outputs": [],
   "source": []
  }
 ],
 "metadata": {
  "kernelspec": {
   "display_name": "Python 3",
   "language": "python",
   "name": "python3"
  },
  "language_info": {
   "codemirror_mode": {
    "name": "ipython",
    "version": 3
   },
   "file_extension": ".py",
   "mimetype": "text/x-python",
   "name": "python",
   "nbconvert_exporter": "python",
   "pygments_lexer": "ipython3",
   "version": "3.7.3"
  }
 },
 "nbformat": 4,
 "nbformat_minor": 2
}
