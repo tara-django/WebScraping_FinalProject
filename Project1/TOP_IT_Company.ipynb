{
 "cells": [
  {
   "cell_type": "code",
   "execution_count": 7,
   "metadata": {},
   "outputs": [],
   "source": [
    "import requests\n",
    "from bs4 import BeautifulSoup\n",
    "import csv\n",
    "\n",
    "base_url = \"https://en.wikipedia.org/wiki/List_of_largest_technology_companies_by_revenue\"\n",
    "response = requests.get(base_url)\n",
    "html_soup = BeautifulSoup(response.content, 'lxml')\n",
    "\n",
    "tables = html_soup.find_all(\"table\")\n",
    "\n",
    "table = tables[1]\n",
    "raw_trs = table.find_all(\"tr\")\n",
    "len(raw_trs)\n",
    "clean_trs = raw_trs[0:22]\n",
    "raw_columns, raw_rows = clean_trs[0], clean_trs[1:]"
   ]
  },
  {
   "cell_type": "code",
   "execution_count": 8,
   "metadata": {},
   "outputs": [],
   "source": [
    "rows = [[td.text for td in row.find_all(\"td\")] for row in raw_rows]"
   ]
  },
  {
   "cell_type": "code",
   "execution_count": 9,
   "metadata": {},
   "outputs": [
    {
     "data": {
      "text/plain": [
       "[['1',\n",
       "  '',\n",
       "  'Apple Inc.\\n',\n",
       "  '30 September 2017[2]',\n",
       "  '$229.2[1][3]',\n",
       "  '123,000[3]',\n",
       "  'Cupertino, California, US\\n'],\n",
       " ['2',\n",
       "  '',\n",
       "  'Samsung Electronics\\n',\n",
       "  '31 December 2017[4]',\n",
       "  '$211.9[1][5][6]',\n",
       "  '320,670[7][8]',\n",
       "  'Suwon, South Korea\\n'],\n",
       " ['3',\n",
       "  '',\n",
       "  'Amazon\\n',\n",
       "  '31 December 2017[9][10]',\n",
       "  '$177.9[1][10]',\n",
       "  '613,300[11]',\n",
       "  'Seattle, Washington, US\\n'],\n",
       " ['4',\n",
       "  '',\n",
       "  'Foxconn\\n',\n",
       "  '31 December 2017[12][13]',\n",
       "  '$154.7–158[1][13][14]',\n",
       "  '803,126[15]',\n",
       "  'New Taipei City, Taiwan\\n'],\n",
       " ['5',\n",
       "  '',\n",
       "  'Alphabet Inc.\\n',\n",
       "  '31 December 2017[16][17]',\n",
       "  '$110.8[1][17]',\n",
       "  '80,110[18]',\n",
       "  'Mountain View, California, US\\n'],\n",
       " ['6',\n",
       "  '',\n",
       "  'Microsoft\\n',\n",
       "  '30 June 2017[19]',\n",
       "  '$90.0[1]',\n",
       "  '124,000[19]',\n",
       "  'Redmond, Washington, US\\n'],\n",
       " ['7',\n",
       "  '',\n",
       "  'Huawei\\n',\n",
       "  '31 December 2017[20][21]',\n",
       "  '$89.3–92.5[1][21]',\n",
       "  '180,000',\n",
       "  'Shenzhen, China\\n'],\n",
       " ['8',\n",
       "  '',\n",
       "  'Hitachi\\n',\n",
       "  '31 March 2018[22]',\n",
       "  '$84.6[1]',\n",
       "  '307,275',\n",
       "  'Tokyo, Japan\\n'],\n",
       " ['9',\n",
       "  '',\n",
       "  'IBM\\n',\n",
       "  '31 December 2017[23][24]',\n",
       "  '$79.1[1]',\n",
       "  '397,800',\n",
       "  'Armonk, New York, US\\n'],\n",
       " ['10',\n",
       "  '',\n",
       "  'Dell Technologies\\n',\n",
       "  '31 January 2018[25][26]',\n",
       "  '$78.7[1][26]',\n",
       "  '145,000[25]',\n",
       "  'Round Rock, Texas, US\\n'],\n",
       " ['11',\n",
       "  '',\n",
       "  'Sony\\n',\n",
       "  '31 March 2018[27]',\n",
       "  '$77.1[1][28]',\n",
       "  '117,300[27]',\n",
       "  'Tokyo, Japan\\n'],\n",
       " ['12',\n",
       "  '',\n",
       "  'Panasonic\\n',\n",
       "  '31 March 2018[29]',\n",
       "  '$72.0[1]',\n",
       "  '274,143',\n",
       "  'Osaka, Japan\\n'],\n",
       " ['13',\n",
       "  '',\n",
       "  'Intel\\n',\n",
       "  '31 December 2017[30]',\n",
       "  '$62.8[1]',\n",
       "  '102,700',\n",
       "  'Santa Clara, California, US\\n'],\n",
       " ['14',\n",
       "  '',\n",
       "  'LG Electronics\\n',\n",
       "  '31 December 2017[31]',\n",
       "  '$54.3[1]',\n",
       "  '74,000',\n",
       "  'Seoul, South Korea\\n'],\n",
       " ['15',\n",
       "  '',\n",
       "  'JD.com\\n',\n",
       "  '31 December 2017[32]',\n",
       "  '$54.0[1]',\n",
       "  '157,831',\n",
       "  'Beijing, China\\n'],\n",
       " ['16',\n",
       "  '',\n",
       "  'HP Inc.\\n',\n",
       "  '31 October 2017[33]',\n",
       "  '$52.0[1]',\n",
       "  '49,000',\n",
       "  'Palo Alto, California, US\\n']]"
      ]
     },
     "execution_count": 9,
     "metadata": {},
     "output_type": "execute_result"
    }
   ],
   "source": [
    "rows"
   ]
  },
  {
   "cell_type": "code",
   "execution_count": 11,
   "metadata": {},
   "outputs": [
    {
     "name": "stdout",
     "output_type": "stream",
     "text": [
      "Writing complete\n"
     ]
    }
   ],
   "source": [
    "myFile = open('TOP_IT_Company.csv', 'w')\n",
    "with myFile:\n",
    "    writer = csv.writer(myFile)\n",
    "    writer.writerow(['Rank','','Company','Fiscal Year Ending','Revenue $b USD','Employees','HeadQuaters'])\n",
    "    writer.writerows(rows)\n",
    "    \n",
    "print(\"Writing complete\")"
   ]
  },
  {
   "cell_type": "code",
   "execution_count": null,
   "metadata": {},
   "outputs": [],
   "source": []
  },
  {
   "cell_type": "code",
   "execution_count": null,
   "metadata": {},
   "outputs": [],
   "source": [
    "\n"
   ]
  },
  {
   "cell_type": "code",
   "execution_count": null,
   "metadata": {},
   "outputs": [],
   "source": []
  },
  {
   "cell_type": "code",
   "execution_count": null,
   "metadata": {},
   "outputs": [],
   "source": []
  }
 ],
 "metadata": {
  "kernelspec": {
   "display_name": "Python 3",
   "language": "python",
   "name": "python3"
  },
  "language_info": {
   "codemirror_mode": {
    "name": "ipython",
    "version": 3
   },
   "file_extension": ".py",
   "mimetype": "text/x-python",
   "name": "python",
   "nbconvert_exporter": "python",
   "pygments_lexer": "ipython3",
   "version": "3.7.3"
  }
 },
 "nbformat": 4,
 "nbformat_minor": 2
}
